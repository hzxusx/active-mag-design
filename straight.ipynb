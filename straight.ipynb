{
 "cells": [
  {
   "cell_type": "code",
   "execution_count": 58,
   "metadata": {},
   "outputs": [],
   "source": [
    "import sympy\n",
    "from sympy import symbols, Integral, Rational, solve, sign, atan2\n",
    "from sympy.vector import CoordSys3D\n",
    "sympy.init_printing()"
   ]
  },
  {
   "cell_type": "code",
   "execution_count": 99,
   "metadata": {},
   "outputs": [],
   "source": [
    "x0, y0, z0 = symbols('x_0 y_0 z_0')\n",
    "x1, y1, z1 = symbols('x_1 y_1 z_1')\n",
    "θ1, θ2 = symbols('θ_1 θ_2')\n",
    "t, n = symbols('t \\\\vec{n}')\n",
    "\n",
    "N = CoordSys3D('N')"
   ]
  },
  {
   "cell_type": "code",
   "execution_count": null,
   "metadata": {
    "collapsed": true
   },
   "outputs": [],
   "source": [
    "x0**(sympy.)"
   ]
  },
  {
   "cell_type": "code",
   "execution_count": 32,
   "metadata": {},
   "outputs": [
    {
     "data": {
      "text/plain": [
       "1"
      ]
     },
     "execution_count": 32,
     "metadata": {},
     "output_type": "execute_result"
    }
   ],
   "source": [
    "N.i.dot(N.i)"
   ]
  },
  {
   "cell_type": "code",
   "execution_count": 124,
   "metadata": {},
   "outputs": [],
   "source": [
    "p0 = x0*N.i + y0*N.j + z0*N.k\n",
    "p1 = x1*N.i + y1*N.j + z1*N.k\n",
    "p2 = x2*N.i + y2*N.j + z2*N.k\n",
    "\n",
    "pt = p1 + t*(p2-p1)\n",
    "B = (p2-p1).cross(p0-pt)/(p0-pt).magnitude()**3"
   ]
  },
  {
   "cell_type": "code",
   "execution_count": 56,
   "metadata": {},
   "outputs": [
    {
     "data": {
      "image/png": "[encoded data removed]",
      "text/latex": [
       "$$\\sqrt{\\left(x_{1} - x_{2}\\right)^{2} + \\left(y_{1} - y_{2}\\right)^{2} + \\left(z_{1} - z_{2}\\right)^{2}}$$"
      ],
      "text/plain": [
       "   ______________________________________\n",
       "  ╱          2            2            2 \n",
       "╲╱  (x₁ - x₂)  + (y₁ - y₂)  + (z₁ - z₂)  "
      ]
     },
     "execution_count": 56,
     "metadata": {},
     "output_type": "execute_result"
    }
   ],
   "source": [
    "(p1-p2).magnitude()"
   ]
  },
  {
   "cell_type": "code",
   "execution_count": 161,
   "metadata": {},
   "outputs": [],
   "source": [
    "# pedal t\n",
    "\n",
    "tp = solve((p0-pt).dot(p2-p1), t)[0]\n",
    "rp = p0 - pt.subs({t: tp})\n",
    "pp = pt.subs({t: tp})\n",
    "\n",
    "θ1_ = atan2(sign((p1-pp).dot(p2-p1))*(p1-pp).magnitude(), rp.magnitude())\n",
    "θ2_ = atan2(sign((p2-pp).dot(p2-p1))*(p2-pp).magnitude(), rp.magnitude())\n",
    "\n",
    "n_ = (p2-p1).cross(p0-p2)\n",
    "n_ = n_/n_.magnitude()\n",
    "\n",
    "# B_symb = n_*Rational(1, 2)*(θ2-θ1 + Rational(1, 2)*(sympy.sin(2*θ2)-sympy.sin(2*θ1)))/rp.magnitude()\n",
    "B_symb = n_*(sympy.sin(θ2)-sympy.sin(θ1))/rp.magnitude()\n"
   ]
  },
  {
   "cell_type": "code",
   "execution_count": 165,
   "metadata": {},
   "outputs": [
    {
     "data": {
      "image/png": "[encoded data removed]",
      "text/latex": [
       "$$\\frac{- x_{0} x_{1} + x_{0} x_{2} + x_{1}^{2} - x_{1} x_{2} - y_{0} y_{1} + y_{0} y_{2} + y_{1}^{2} - y_{1} y_{2} - z_{0} z_{1} + z_{0} z_{2} + z_{1}^{2} - z_{1} z_{2}}{x_{1}^{2} - 2 x_{1} x_{2} + x_{2}^{2} + y_{1}^{2} - 2 y_{1} y_{2} + y_{2}^{2} + z_{1}^{2} - 2 z_{1} z_{2} + z_{2}^{2}}$$"
      ],
      "text/plain": [
       "                   2                             2                            \n",
       "-x₀⋅x₁ + x₀⋅x₂ + x₁  - x₁⋅x₂ - y₀⋅y₁ + y₀⋅y₂ + y₁  - y₁⋅y₂ - z₀⋅z₁ + z₀⋅z₂ + z\n",
       "──────────────────────────────────────────────────────────────────────────────\n",
       "              2               2     2               2     2               2   \n",
       "            x₁  - 2⋅x₁⋅x₂ + x₂  + y₁  - 2⋅y₁⋅y₂ + y₂  + z₁  - 2⋅z₁⋅z₂ + z₂    \n",
       "\n",
       " 2        \n",
       "₁  - z₁⋅z₂\n",
       "──────────\n",
       "          \n",
       "          "
      ]
     },
     "execution_count": 165,
     "metadata": {},
     "output_type": "execute_result"
    }
   ],
   "source": [
    "tp\n",
    "#   p1^2 - p0*p1 - p1*p2 - p0*p2\n",
    "#   ------------\n",
    "# = (p1 - p2)^2"
   ]
  },
  {
   "cell_type": "code",
   "execution_count": 133,
   "metadata": {},
   "outputs": [
    {
     "data": {
      "image/png": "[encoded data removed]",
      "text/latex": [
       "$$(0.408248290463863)\\mathbf{\\hat{i}_{N}} + (-0.816496580927726)\\mathbf{\\hat{j}_{N}} + (0.408248290463863)\\mathbf{\\hat{k}_{N}}$$"
      ],
      "text/plain": [
       "(0.408248290463863) N_i + (-0.816496580927726) N_j + (0.408248290463863) N_k"
      ]
     },
     "execution_count": 133,
     "metadata": {},
     "output_type": "execute_result"
    }
   ],
   "source": [
    "values = {x0: 1, y0: 2, z0: 3, x1: 0, y1: 0, z1: 0, x2: 4, y2: 4, z2: 4}\n",
    "sympy.N(n_.subs(values))"
   ]
  },
  {
   "cell_type": "code",
   "execution_count": 116,
   "metadata": {},
   "outputs": [
    {
     "data": {
      "image/png": "[encoded data removed]",
      "text/latex": [
       "$$\\left ( - \\operatorname{atan}{\\left (\\sqrt{6} \\right )}, \\quad \\operatorname{atan}{\\left (\\sqrt{6} \\right )}, \\quad (\\frac{\\sqrt{6}}{6})\\mathbf{\\hat{i}_{N}} + (- \\frac{\\sqrt{6}}{3})\\mathbf{\\hat{j}_{N}} + (\\frac{\\sqrt{6}}{6})\\mathbf{\\hat{k}_{N}}\\right )$$"
      ],
      "text/plain": [
       "⎛-atan(√6), atan(√6), ⎛√6⎞ N_i + ⎛-√6 ⎞ N_j + ⎛√6⎞ N_k⎞\n",
       "⎜                     ⎜──⎟       ⎜────⎟       ⎜──⎟    ⎟\n",
       "⎝                     ⎝6 ⎠       ⎝ 3  ⎠       ⎝6 ⎠    ⎠"
      ]
     },
     "execution_count": 116,
     "metadata": {},
     "output_type": "execute_result"
    }
   ],
   "source": [
    "θ1_.subs(values), θ2_.subs(values), n_.subs(values)"
   ]
  },
  {
   "cell_type": "code",
   "execution_count": 162,
   "metadata": {},
   "outputs": [
    {
     "data": {
      "image/png": "[encoded data removed]",
      "text/latex": [
       "$$1.30930734141595$$"
      ],
      "text/plain": [
       "1.30930734141595"
      ]
     },
     "execution_count": 162,
     "metadata": {},
     "output_type": "execute_result"
    }
   ],
   "source": [
    "sympy.N(B_symb.magnitude().subs({θ1: θ1_.subs(values), θ2: θ2_.subs(values)}).subs(values))\n",
    "# B_symb_.subs({θ1: θ1_.subs(values), θ2: θ2_.subs(values), n: n_.subs(values)})"
   ]
  },
  {
   "cell_type": "code",
   "execution_count": 159,
   "metadata": {},
   "outputs": [
    {
     "data": {
      "image/png": "[encoded data removed]",
      "text/latex": [
       "$$1.1748398529824$$"
      ],
      "text/plain": [
       "1.17483985298240"
      ]
     },
     "execution_count": 159,
     "metadata": {},
     "output_type": "execute_result"
    }
   ],
   "source": [
    "sympy.N(Integral(sympy.cos(t)**4, (t, θ1_.subs(values), θ2_.subs(values))))"
   ]
  },
  {
   "cell_type": "code",
   "execution_count": 125,
   "metadata": {},
   "outputs": [],
   "source": [
    "B = sympy.N(Integral(B, (t, 0, 1)).subs({x0: 1, y0: 2, z0: 3, x1: 0, y1: 0, z1: 0, x2: 4, y2: 4, z2: 4}))"
   ]
  },
  {
   "cell_type": "code",
   "execution_count": 127,
   "metadata": {},
   "outputs": [
    {
     "data": {
      "image/png": "[encoded data removed]",
      "text/latex": [
       "$$1.30930734141595$$"
      ],
      "text/plain": [
       "1.30930734141595"
      ]
     },
     "execution_count": 127,
     "metadata": {},
     "output_type": "execute_result"
    }
   ],
   "source": [
    "B.magnitude()"
   ]
  },
  {
   "cell_type": "code",
   "execution_count": 67,
   "metadata": {},
   "outputs": [
    {
     "data": {
      "image/png": "[encoded data removed]",
      "text/latex": [
       "$$(0.408248290463863)\\mathbf{\\hat{i}_{N}} + (-0.816496580927726)\\mathbf{\\hat{j}_{N}} + (0.408248290463863)\\mathbf{\\hat{k}_{N}}$$"
      ],
      "text/plain": [
       "(0.408248290463863) N_i + (-0.816496580927726) N_j + (0.408248290463863) N_k"
      ]
     },
     "execution_count": 67,
     "metadata": {},
     "output_type": "execute_result"
    }
   ],
   "source": [
    "B/B.magnitude()"
   ]
  }
 ],
 "metadata": {
  "kernelspec": {
   "display_name": "Python 3",
   "language": "python",
   "name": "python3"
  },
  "language_info": {
   "codemirror_mode": {
    "name": "ipython",
    "version": 3
   },
   "file_extension": ".py",
   "mimetype": "text/x-python",
   "name": "python",
   "nbconvert_exporter": "python",
   "pygments_lexer": "ipython3",
   "version": "3.6.2"
  }
 },
 "nbformat": 4,
 "nbformat_minor": 2
}
