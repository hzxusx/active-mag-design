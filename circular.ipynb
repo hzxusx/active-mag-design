{
 "cells": [
  {
   "cell_type": "code",
   "execution_count": 41,
   "metadata": {},
   "outputs": [],
   "source": [
    "import sympy\n",
    "from sympy import symbols, Integral, Rational, integrate, solve, sign, atan2, sin, cos, pi\n",
    "from sympy.vector import CoordSys3D\n",
    "sympy.init_printing()\n",
    "import numpy as np"
   ]
  },
  {
   "cell_type": "code",
   "execution_count": 4,
   "metadata": {
    "collapsed": true
   },
   "outputs": [],
   "source": [
    "ϕ, d, h, r = symbols('φ d h r')\n",
    "dϕ = symbols('dφ')\n",
    "T = CoordSys3D('T')"
   ]
  },
  {
   "cell_type": "code",
   "execution_count": 16,
   "metadata": {},
   "outputs": [],
   "source": [
    "dl_div_dϕ = r*(-sin(ϕ)*T.i + cos(ϕ)*T.j) # *dϕ\n",
    "r_AP = (d-r*cos(ϕ))*T.i - r*sin(ϕ)*T.j + h*T.k\n",
    "nominator = dl_div_dϕ.cross(r_AP).simplify()"
   ]
  },
  {
   "cell_type": "code",
   "execution_count": 12,
   "metadata": {},
   "outputs": [
    {
     "data": {
      "image/png": "[encoded data removed]",
      "text/latex": [
       "$$\\sqrt{h^{2} + r^{2} \\sin^{2}{\\left (φ \\right )} + \\left(d - r \\cos{\\left (φ \\right )}\\right)^{2}}$$"
      ],
      "text/plain": [
       "   ___________________________________\n",
       "  ╱  2    2    2                    2 \n",
       "╲╱  h  + r ⋅sin (φ) + (d - r⋅cos(φ))  "
      ]
     },
     "execution_count": 12,
     "metadata": {},
     "output_type": "execute_result"
    }
   ],
   "source": [
    "r_AP.magnitude()"
   ]
  },
  {
   "cell_type": "code",
   "execution_count": 33,
   "metadata": {},
   "outputs": [],
   "source": [
    "# Integral((nominator/(r_AP.magnitude()**3)), (ϕ, 0, 2*pi))\n",
    "# integrate((nominator/(r_AP.magnitude()**3)), (ϕ, 0, 2*pi))"
   ]
  },
  {
   "cell_type": "code",
   "execution_count": 39,
   "metadata": {},
   "outputs": [],
   "source": [
    "A = integrate(dl_div_dφ/r_AP.magnitude(), (ϕ, 0, 2*pi))"
   ]
  },
  {
   "cell_type": "code",
   "execution_count": 40,
   "metadata": {},
   "outputs": [
    {
     "data": {
      "image/png": "[encoded data removed]",
      "text/latex": [
       "$$(\\int_{0}^{2 \\pi} \\left(- \\frac{r \\sin{\\left (φ \\right )}}{\\sqrt{d^{2} - 2 d r \\cos{\\left (φ \\right )} + h^{2} + r^{2}}}\\right)\\, dφ)\\mathbf{\\hat{i}_{T}} + (\\int_{0}^{2 \\pi} \\frac{r \\cos{\\left (φ \\right )}}{\\sqrt{d^{2} - 2 d r \\cos{\\left (φ \\right )} + h^{2} + r^{2}}}\\, dφ)\\mathbf{\\hat{j}_{T}}$$"
      ],
      "text/plain": [
       "⎛2⋅π                                    ⎞ T_i + ⎛2⋅π                          \n",
       "⎜ ⌠                                     ⎟       ⎜ ⌠                           \n",
       "⎜ ⎮             -r⋅sin(φ)               ⎟       ⎜ ⎮              r⋅cos(φ)     \n",
       "⎜ ⎮  ──────────────────────────────── dφ⎟       ⎜ ⎮  ─────────────────────────\n",
       "⎜ ⎮     _____________________________   ⎟       ⎜ ⎮     ______________________\n",
       "⎜ ⎮    ╱  2                   2    2    ⎟       ⎜ ⎮    ╱  2                   \n",
       "⎜ ⎮  ╲╱  d  - 2⋅d⋅r⋅cos(φ) + h  + r     ⎟       ⎜ ⎮  ╲╱  d  - 2⋅d⋅r⋅cos(φ) + h\n",
       "⎜ ⌡                                     ⎟       ⎜ ⌡                           \n",
       "⎝ 0                                     ⎠       ⎝ 0                           \n",
       "\n",
       "          ⎞ T_j\n",
       "          ⎟    \n",
       "          ⎟    \n",
       "─────── dφ⎟    \n",
       "_______   ⎟    \n",
       "2    2    ⎟    \n",
       "  + r     ⎟    \n",
       "          ⎟    \n",
       "          ⎠    "
      ]
     },
     "execution_count": 40,
     "metadata": {},
     "output_type": "execute_result"
    }
   ],
   "source": [
    "A.simplify()"
   ]
  },
  {
   "cell_type": "code",
   "execution_count": 42,
   "metadata": {},
   "outputs": [
    {
     "data": {
      "image/png": "[encoded data removed]",
      "text/latex": [
       "$$\\begin{cases} - \\frac{i r}{3} \\sqrt{2 r - 1} - \\frac{i}{3} \\sqrt{2 r - 1} & \\text{for}\\: 2 \\left|{r}\\right| > 1 \\\\- \\frac{r}{3} \\sqrt{- 2 r + 1} - \\frac{1}{3} \\sqrt{- 2 r + 1} & \\text{otherwise} \\end{cases}$$"
      ],
      "text/plain": [
       "⎧        _________       _________               \n",
       "⎪  ⅈ⋅r⋅╲╱ 2⋅r - 1    ⅈ⋅╲╱ 2⋅r - 1                \n",
       "⎪- ─────────────── - ─────────────  for 2⋅│r│ > 1\n",
       "⎪         3                3                     \n",
       "⎨                                                \n",
       "⎪       __________     __________                \n",
       "⎪   r⋅╲╱ -2⋅r + 1    ╲╱ -2⋅r + 1                 \n",
       "⎪ - ────────────── - ────────────     otherwise  \n",
       "⎩         3               3                      "
      ]
     },
     "execution_count": 42,
     "metadata": {},
     "output_type": "execute_result"
    }
   ],
   "source": [
    "integrate(r/sympy.sqrt(1-2*r), r)"
   ]
  },
  {
   "cell_type": "code",
   "execution_count": 52,
   "metadata": {
    "collapsed": true
   },
   "outputs": [],
   "source": [
    "np.arctan2?"
   ]
  },
  {
   "cell_type": "code",
   "execution_count": 59,
   "metadata": {},
   "outputs": [],
   "source": [
    "n = [1., 1., 1.]\n",
    "n = n/np.linalg.norm(n)\n",
    "r = 3.\n",
    "z = [0., 0., 1.]\n",
    "\n",
    "# nz = np.cross(n, z)\n",
    "# a = np.arctan2(nz[2], nz[0])\n",
    "# b = np.arccos(n[2])\n",
    "\n",
    "x2 = np.cross(z, n)\n",
    "y2 = np.cross(n, x2)\n",
    "\n",
    "ts = np.arange(0, 2*np.pi, 0.02)\n",
    "\n",
    "def circle(t):\n",
    "#     return [np.cos(t)*np.cos(a)-np.sin(t)*np.sin(a)*np.cos(b),\n",
    "#             np.cos(t)*np.sin(a)+np.sin(t)*np.cos(a)*np.cos(b),\n",
    "#             np.sin(t)*np.sin(b)]\n",
    "    return r*np.cos(t)*x2 + r*np.sin(t)*y2\n",
    "\n",
    "p_on_o = [circle(t) for t in ts]\n",
    "r = [np.linalg.norm(x) for x in p_on_o]\n",
    "dots = [np.dot(n, x) for x in p_on_o]"
   ]
  },
  {
   "cell_type": "code",
   "execution_count": null,
   "metadata": {
    "collapsed": true
   },
   "outputs": [],
   "source": []
  }
 ],
 "metadata": {
  "kernelspec": {
   "display_name": "Python 3",
   "language": "python",
   "name": "python3"
  },
  "language_info": {
   "codemirror_mode": {
    "name": "ipython",
    "version": 3
   },
   "file_extension": ".py",
   "mimetype": "text/x-python",
   "name": "python",
   "nbconvert_exporter": "python",
   "pygments_lexer": "ipython3",
   "version": "3.6.2"
  }
 },
 "nbformat": 4,
 "nbformat_minor": 2
}
